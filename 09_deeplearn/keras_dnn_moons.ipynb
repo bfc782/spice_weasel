{
 "cells": [
  {
   "cell_type": "code",
   "execution_count": 15,
   "id": "representative-desperate",
   "metadata": {},
   "outputs": [],
   "source": [
    "from tensorflow.keras.models import Sequential\n",
    "from tensorflow.keras.layers import Dense, Activation\n",
    "from sklearn.datasets import make_moons\n",
    "from matplotlib import pyplot as plt\n",
    "import numpy as np"
   ]
  },
  {
   "cell_type": "code",
   "execution_count": 16,
   "id": "floppy-invite",
   "metadata": {},
   "outputs": [],
   "source": [
    "X, y = make_moons(500, noise=0.1)"
   ]
  },
  {
   "cell_type": "code",
   "execution_count": 18,
   "id": "latin-nicaragua",
   "metadata": {},
   "outputs": [
    {
     "name": "stdout",
     "output_type": "stream",
     "text": [
      "Model: \"sequential_1\"\n",
      "_________________________________________________________________\n",
      "Layer (type)                 Output Shape              Param #   \n",
      "=================================================================\n",
      "dense_2 (Dense)              (None, 4)                 12        \n",
      "_________________________________________________________________\n",
      "dense_3 (Dense)              (None, 1)                 5         \n",
      "=================================================================\n",
      "Total params: 17\n",
      "Trainable params: 17\n",
      "Non-trainable params: 0\n",
      "_________________________________________________________________\n",
      "None\n"
     ]
    }
   ],
   "source": [
    "m = Sequential([\n",
    "    Dense(units = 4, activation = 'relu', input_shape = (2,)),\n",
    "    Dense(units = 1, activation = 'sigmoid')\n",
    "])\n",
    "\n",
    "#build computation graph\n",
    "m.compile(optimizer='rmsprop',\n",
    "         loss='binary_crossentropy',\n",
    "         metrics=['accuracy'])\n",
    "\n",
    "#print all layers\n",
    "print(m.summary())"
   ]
  },
  {
   "cell_type": "code",
   "execution_count": 23,
   "id": "universal-store",
   "metadata": {},
   "outputs": [
    {
     "name": "stdout",
     "output_type": "stream",
     "text": [
      "Epoch 1/100\n",
      "8/8 [==============================] - 0s 17ms/step - loss: 0.4315 - accuracy: 0.8575 - val_loss: 0.5158 - val_accuracy: 0.7900\n",
      "Epoch 2/100\n",
      "8/8 [==============================] - 0s 10ms/step - loss: 0.4265 - accuracy: 0.8575 - val_loss: 0.5125 - val_accuracy: 0.7900\n",
      "Epoch 3/100\n",
      "8/8 [==============================] - 0s 9ms/step - loss: 0.4217 - accuracy: 0.8575 - val_loss: 0.5091 - val_accuracy: 0.7900\n",
      "Epoch 4/100\n",
      "8/8 [==============================] - 0s 9ms/step - loss: 0.4169 - accuracy: 0.8575 - val_loss: 0.5059 - val_accuracy: 0.7900\n",
      "Epoch 5/100\n",
      "8/8 [==============================] - 0s 9ms/step - loss: 0.4122 - accuracy: 0.8575 - val_loss: 0.5028 - val_accuracy: 0.7900\n",
      "Epoch 6/100\n",
      "8/8 [==============================] - 0s 9ms/step - loss: 0.4077 - accuracy: 0.8575 - val_loss: 0.4996 - val_accuracy: 0.7900\n",
      "Epoch 7/100\n",
      "8/8 [==============================] - 0s 9ms/step - loss: 0.4033 - accuracy: 0.8575 - val_loss: 0.4967 - val_accuracy: 0.7900\n",
      "Epoch 8/100\n",
      "8/8 [==============================] - 0s 9ms/step - loss: 0.3990 - accuracy: 0.8575 - val_loss: 0.4938 - val_accuracy: 0.7900\n",
      "Epoch 9/100\n",
      "8/8 [==============================] - 0s 9ms/step - loss: 0.3948 - accuracy: 0.8600 - val_loss: 0.4909 - val_accuracy: 0.7900\n",
      "Epoch 10/100\n",
      "8/8 [==============================] - 0s 9ms/step - loss: 0.3906 - accuracy: 0.8550 - val_loss: 0.4882 - val_accuracy: 0.7900\n",
      "Epoch 11/100\n",
      "8/8 [==============================] - 0s 9ms/step - loss: 0.3866 - accuracy: 0.8550 - val_loss: 0.4857 - val_accuracy: 0.7900\n",
      "Epoch 12/100\n",
      "8/8 [==============================] - 0s 16ms/step - loss: 0.3828 - accuracy: 0.8575 - val_loss: 0.4831 - val_accuracy: 0.7900\n",
      "Epoch 13/100\n",
      "8/8 [==============================] - 0s 9ms/step - loss: 0.3791 - accuracy: 0.8575 - val_loss: 0.4806 - val_accuracy: 0.7900\n",
      "Epoch 14/100\n",
      "8/8 [==============================] - 0s 14ms/step - loss: 0.3756 - accuracy: 0.8600 - val_loss: 0.4783 - val_accuracy: 0.7900\n",
      "Epoch 15/100\n",
      "8/8 [==============================] - 0s 10ms/step - loss: 0.3721 - accuracy: 0.8575 - val_loss: 0.4760 - val_accuracy: 0.7900\n",
      "Epoch 16/100\n",
      "8/8 [==============================] - 0s 11ms/step - loss: 0.3686 - accuracy: 0.8575 - val_loss: 0.4739 - val_accuracy: 0.7900\n",
      "Epoch 17/100\n",
      "8/8 [==============================] - 0s 10ms/step - loss: 0.3653 - accuracy: 0.8550 - val_loss: 0.4717 - val_accuracy: 0.7900\n",
      "Epoch 18/100\n",
      "8/8 [==============================] - 0s 10ms/step - loss: 0.3622 - accuracy: 0.8575 - val_loss: 0.4698 - val_accuracy: 0.7900\n",
      "Epoch 19/100\n",
      "8/8 [==============================] - 0s 10ms/step - loss: 0.3590 - accuracy: 0.8575 - val_loss: 0.4677 - val_accuracy: 0.7900\n",
      "Epoch 20/100\n",
      "8/8 [==============================] - 0s 10ms/step - loss: 0.3559 - accuracy: 0.8600 - val_loss: 0.4655 - val_accuracy: 0.7900\n",
      "Epoch 21/100\n",
      "8/8 [==============================] - 0s 11ms/step - loss: 0.3527 - accuracy: 0.8550 - val_loss: 0.4635 - val_accuracy: 0.7900\n",
      "Epoch 22/100\n",
      "8/8 [==============================] - 0s 10ms/step - loss: 0.3497 - accuracy: 0.8575 - val_loss: 0.4616 - val_accuracy: 0.7900\n",
      "Epoch 23/100\n",
      "8/8 [==============================] - 0s 16ms/step - loss: 0.3466 - accuracy: 0.8575 - val_loss: 0.4598 - val_accuracy: 0.7900\n",
      "Epoch 24/100\n",
      "8/8 [==============================] - 0s 11ms/step - loss: 0.3438 - accuracy: 0.8575 - val_loss: 0.4579 - val_accuracy: 0.7900\n",
      "Epoch 25/100\n",
      "8/8 [==============================] - 0s 12ms/step - loss: 0.3410 - accuracy: 0.8575 - val_loss: 0.4562 - val_accuracy: 0.7900\n",
      "Epoch 26/100\n",
      "8/8 [==============================] - 0s 10ms/step - loss: 0.3384 - accuracy: 0.8600 - val_loss: 0.4545 - val_accuracy: 0.7900\n",
      "Epoch 27/100\n",
      "8/8 [==============================] - 0s 11ms/step - loss: 0.3357 - accuracy: 0.8600 - val_loss: 0.4526 - val_accuracy: 0.7900\n",
      "Epoch 28/100\n",
      "8/8 [==============================] - 0s 12ms/step - loss: 0.3330 - accuracy: 0.8600 - val_loss: 0.4508 - val_accuracy: 0.7900\n",
      "Epoch 29/100\n",
      "8/8 [==============================] - 0s 10ms/step - loss: 0.3305 - accuracy: 0.8600 - val_loss: 0.4492 - val_accuracy: 0.7900\n",
      "Epoch 30/100\n",
      "8/8 [==============================] - 0s 10ms/step - loss: 0.3281 - accuracy: 0.8600 - val_loss: 0.4478 - val_accuracy: 0.7900\n",
      "Epoch 31/100\n",
      "8/8 [==============================] - 0s 10ms/step - loss: 0.3257 - accuracy: 0.8625 - val_loss: 0.4463 - val_accuracy: 0.7900\n",
      "Epoch 32/100\n",
      "8/8 [==============================] - 0s 14ms/step - loss: 0.3233 - accuracy: 0.8625 - val_loss: 0.4450 - val_accuracy: 0.7900\n",
      "Epoch 33/100\n",
      "8/8 [==============================] - 0s 16ms/step - loss: 0.3209 - accuracy: 0.8650 - val_loss: 0.4435 - val_accuracy: 0.7900\n",
      "Epoch 34/100\n",
      "8/8 [==============================] - 0s 11ms/step - loss: 0.3186 - accuracy: 0.8650 - val_loss: 0.4421 - val_accuracy: 0.7900\n",
      "Epoch 35/100\n",
      "8/8 [==============================] - 0s 11ms/step - loss: 0.3163 - accuracy: 0.8650 - val_loss: 0.4408 - val_accuracy: 0.7900\n",
      "Epoch 36/100\n",
      "8/8 [==============================] - 0s 10ms/step - loss: 0.3140 - accuracy: 0.8675 - val_loss: 0.4395 - val_accuracy: 0.7800\n",
      "Epoch 37/100\n",
      "8/8 [==============================] - 0s 10ms/step - loss: 0.3117 - accuracy: 0.8675 - val_loss: 0.4382 - val_accuracy: 0.7800\n",
      "Epoch 38/100\n",
      "8/8 [==============================] - 0s 10ms/step - loss: 0.3096 - accuracy: 0.8675 - val_loss: 0.4369 - val_accuracy: 0.7800\n",
      "Epoch 39/100\n",
      "8/8 [==============================] - 0s 10ms/step - loss: 0.3076 - accuracy: 0.8675 - val_loss: 0.4358 - val_accuracy: 0.7800\n",
      "Epoch 40/100\n",
      "8/8 [==============================] - 0s 10ms/step - loss: 0.3056 - accuracy: 0.8675 - val_loss: 0.4344 - val_accuracy: 0.7800\n",
      "Epoch 41/100\n",
      "8/8 [==============================] - 0s 9ms/step - loss: 0.3037 - accuracy: 0.8675 - val_loss: 0.4334 - val_accuracy: 0.7800\n",
      "Epoch 42/100\n",
      "8/8 [==============================] - 0s 9ms/step - loss: 0.3019 - accuracy: 0.8675 - val_loss: 0.4323 - val_accuracy: 0.7700\n",
      "Epoch 43/100\n",
      "8/8 [==============================] - 0s 9ms/step - loss: 0.3000 - accuracy: 0.8700 - val_loss: 0.4315 - val_accuracy: 0.7800\n",
      "Epoch 44/100\n",
      "8/8 [==============================] - 0s 9ms/step - loss: 0.2982 - accuracy: 0.8700 - val_loss: 0.4305 - val_accuracy: 0.7800\n",
      "Epoch 45/100\n",
      "8/8 [==============================] - 0s 9ms/step - loss: 0.2964 - accuracy: 0.8700 - val_loss: 0.4296 - val_accuracy: 0.7800\n",
      "Epoch 46/100\n",
      "8/8 [==============================] - 0s 16ms/step - loss: 0.2946 - accuracy: 0.8700 - val_loss: 0.4286 - val_accuracy: 0.7800\n",
      "Epoch 47/100\n",
      "8/8 [==============================] - 0s 9ms/step - loss: 0.2928 - accuracy: 0.8725 - val_loss: 0.4276 - val_accuracy: 0.7800\n",
      "Epoch 48/100\n",
      "8/8 [==============================] - 0s 10ms/step - loss: 0.2910 - accuracy: 0.8700 - val_loss: 0.4267 - val_accuracy: 0.7800\n",
      "Epoch 49/100\n",
      "8/8 [==============================] - 0s 10ms/step - loss: 0.2892 - accuracy: 0.8725 - val_loss: 0.4257 - val_accuracy: 0.7800\n",
      "Epoch 50/100\n",
      "8/8 [==============================] - 0s 11ms/step - loss: 0.2875 - accuracy: 0.8725 - val_loss: 0.4250 - val_accuracy: 0.7800\n",
      "Epoch 51/100\n",
      "8/8 [==============================] - 0s 11ms/step - loss: 0.2859 - accuracy: 0.8725 - val_loss: 0.4240 - val_accuracy: 0.7800\n",
      "Epoch 52/100\n",
      "8/8 [==============================] - 0s 10ms/step - loss: 0.2843 - accuracy: 0.8725 - val_loss: 0.4230 - val_accuracy: 0.7800\n",
      "Epoch 53/100\n",
      "8/8 [==============================] - 0s 9ms/step - loss: 0.2829 - accuracy: 0.8725 - val_loss: 0.4224 - val_accuracy: 0.7800\n",
      "Epoch 54/100\n",
      "8/8 [==============================] - 0s 9ms/step - loss: 0.2815 - accuracy: 0.8725 - val_loss: 0.4217 - val_accuracy: 0.7800\n",
      "Epoch 55/100\n",
      "8/8 [==============================] - 0s 10ms/step - loss: 0.2802 - accuracy: 0.8725 - val_loss: 0.4212 - val_accuracy: 0.7800\n",
      "Epoch 56/100\n",
      "8/8 [==============================] - 0s 10ms/step - loss: 0.2790 - accuracy: 0.8725 - val_loss: 0.4207 - val_accuracy: 0.7800\n",
      "Epoch 57/100\n",
      "8/8 [==============================] - 0s 9ms/step - loss: 0.2778 - accuracy: 0.8725 - val_loss: 0.4202 - val_accuracy: 0.7800\n",
      "Epoch 58/100\n",
      "8/8 [==============================] - 0s 9ms/step - loss: 0.2765 - accuracy: 0.8725 - val_loss: 0.4196 - val_accuracy: 0.7800\n",
      "Epoch 59/100\n"
     ]
    },
    {
     "name": "stdout",
     "output_type": "stream",
     "text": [
      "8/8 [==============================] - 0s 10ms/step - loss: 0.2755 - accuracy: 0.8725 - val_loss: 0.4191 - val_accuracy: 0.7800\n",
      "Epoch 60/100\n",
      "8/8 [==============================] - 0s 10ms/step - loss: 0.2743 - accuracy: 0.8725 - val_loss: 0.4186 - val_accuracy: 0.7800\n",
      "Epoch 61/100\n",
      "8/8 [==============================] - 0s 21ms/step - loss: 0.2733 - accuracy: 0.8725 - val_loss: 0.4184 - val_accuracy: 0.7800\n",
      "Epoch 62/100\n",
      "8/8 [==============================] - 0s 10ms/step - loss: 0.2722 - accuracy: 0.8725 - val_loss: 0.4181 - val_accuracy: 0.7800\n",
      "Epoch 63/100\n",
      "8/8 [==============================] - 0s 9ms/step - loss: 0.2711 - accuracy: 0.8725 - val_loss: 0.4179 - val_accuracy: 0.7800\n",
      "Epoch 64/100\n",
      "8/8 [==============================] - 0s 10ms/step - loss: 0.2700 - accuracy: 0.8725 - val_loss: 0.4175 - val_accuracy: 0.7800\n",
      "Epoch 65/100\n",
      "8/8 [==============================] - 0s 10ms/step - loss: 0.2689 - accuracy: 0.8725 - val_loss: 0.4171 - val_accuracy: 0.7800\n",
      "Epoch 66/100\n",
      "8/8 [==============================] - 0s 15ms/step - loss: 0.2678 - accuracy: 0.8725 - val_loss: 0.4163 - val_accuracy: 0.7800\n",
      "Epoch 67/100\n",
      "8/8 [==============================] - 0s 10ms/step - loss: 0.2667 - accuracy: 0.8725 - val_loss: 0.4159 - val_accuracy: 0.7800\n",
      "Epoch 68/100\n",
      "8/8 [==============================] - 0s 15ms/step - loss: 0.2656 - accuracy: 0.8725 - val_loss: 0.4155 - val_accuracy: 0.7800\n",
      "Epoch 69/100\n",
      "8/8 [==============================] - 0s 10ms/step - loss: 0.2645 - accuracy: 0.8725 - val_loss: 0.4151 - val_accuracy: 0.7800\n",
      "Epoch 70/100\n",
      "8/8 [==============================] - 0s 9ms/step - loss: 0.2635 - accuracy: 0.8725 - val_loss: 0.4147 - val_accuracy: 0.7800\n",
      "Epoch 71/100\n",
      "8/8 [==============================] - 0s 10ms/step - loss: 0.2625 - accuracy: 0.8725 - val_loss: 0.4145 - val_accuracy: 0.7900\n",
      "Epoch 72/100\n",
      "8/8 [==============================] - 0s 9ms/step - loss: 0.2617 - accuracy: 0.8725 - val_loss: 0.4142 - val_accuracy: 0.7900\n",
      "Epoch 73/100\n",
      "8/8 [==============================] - 0s 14ms/step - loss: 0.2611 - accuracy: 0.8725 - val_loss: 0.4140 - val_accuracy: 0.7900\n",
      "Epoch 74/100\n",
      "8/8 [==============================] - 0s 9ms/step - loss: 0.2601 - accuracy: 0.8725 - val_loss: 0.4136 - val_accuracy: 0.7900\n",
      "Epoch 75/100\n",
      "8/8 [==============================] - 0s 9ms/step - loss: 0.2593 - accuracy: 0.8750 - val_loss: 0.4134 - val_accuracy: 0.7900\n",
      "Epoch 76/100\n",
      "8/8 [==============================] - 0s 10ms/step - loss: 0.2586 - accuracy: 0.8750 - val_loss: 0.4130 - val_accuracy: 0.7900\n",
      "Epoch 77/100\n",
      "8/8 [==============================] - 0s 10ms/step - loss: 0.2576 - accuracy: 0.8750 - val_loss: 0.4127 - val_accuracy: 0.7900\n",
      "Epoch 78/100\n",
      "8/8 [==============================] - 0s 10ms/step - loss: 0.2568 - accuracy: 0.8750 - val_loss: 0.4123 - val_accuracy: 0.7900\n",
      "Epoch 79/100\n",
      "8/8 [==============================] - 0s 10ms/step - loss: 0.2561 - accuracy: 0.8800 - val_loss: 0.4120 - val_accuracy: 0.7900\n",
      "Epoch 80/100\n",
      "8/8 [==============================] - 0s 10ms/step - loss: 0.2553 - accuracy: 0.8800 - val_loss: 0.4118 - val_accuracy: 0.7900\n",
      "Epoch 81/100\n",
      "8/8 [==============================] - 0s 10ms/step - loss: 0.2547 - accuracy: 0.8775 - val_loss: 0.4115 - val_accuracy: 0.7900\n",
      "Epoch 82/100\n",
      "8/8 [==============================] - 0s 11ms/step - loss: 0.2540 - accuracy: 0.8825 - val_loss: 0.4113 - val_accuracy: 0.7900\n",
      "Epoch 83/100\n",
      "8/8 [==============================] - 0s 11ms/step - loss: 0.2533 - accuracy: 0.8825 - val_loss: 0.4111 - val_accuracy: 0.7900\n",
      "Epoch 84/100\n",
      "8/8 [==============================] - 0s 10ms/step - loss: 0.2526 - accuracy: 0.8825 - val_loss: 0.4110 - val_accuracy: 0.7900\n",
      "Epoch 85/100\n",
      "8/8 [==============================] - 0s 10ms/step - loss: 0.2520 - accuracy: 0.8825 - val_loss: 0.4108 - val_accuracy: 0.7900\n",
      "Epoch 86/100\n",
      "8/8 [==============================] - 0s 9ms/step - loss: 0.2513 - accuracy: 0.8825 - val_loss: 0.4107 - val_accuracy: 0.7900\n",
      "Epoch 87/100\n",
      "8/8 [==============================] - 0s 10ms/step - loss: 0.2509 - accuracy: 0.8825 - val_loss: 0.4106 - val_accuracy: 0.7900\n",
      "Epoch 88/100\n",
      "8/8 [==============================] - 0s 11ms/step - loss: 0.2502 - accuracy: 0.8825 - val_loss: 0.4104 - val_accuracy: 0.7900\n",
      "Epoch 89/100\n",
      "8/8 [==============================] - 0s 12ms/step - loss: 0.2496 - accuracy: 0.8825 - val_loss: 0.4099 - val_accuracy: 0.7900\n",
      "Epoch 90/100\n",
      "8/8 [==============================] - 0s 11ms/step - loss: 0.2490 - accuracy: 0.8825 - val_loss: 0.4098 - val_accuracy: 0.7900\n",
      "Epoch 91/100\n",
      "8/8 [==============================] - 0s 12ms/step - loss: 0.2486 - accuracy: 0.8825 - val_loss: 0.4097 - val_accuracy: 0.7900\n",
      "Epoch 92/100\n",
      "8/8 [==============================] - 0s 10ms/step - loss: 0.2478 - accuracy: 0.8825 - val_loss: 0.4094 - val_accuracy: 0.7900\n",
      "Epoch 93/100\n",
      "8/8 [==============================] - 0s 10ms/step - loss: 0.2474 - accuracy: 0.8825 - val_loss: 0.4092 - val_accuracy: 0.7900\n",
      "Epoch 94/100\n",
      "8/8 [==============================] - 0s 12ms/step - loss: 0.2470 - accuracy: 0.8825 - val_loss: 0.4091 - val_accuracy: 0.7900\n",
      "Epoch 95/100\n",
      "8/8 [==============================] - 0s 10ms/step - loss: 0.2464 - accuracy: 0.8825 - val_loss: 0.4089 - val_accuracy: 0.7900\n",
      "Epoch 96/100\n",
      "8/8 [==============================] - 0s 10ms/step - loss: 0.2459 - accuracy: 0.8825 - val_loss: 0.4085 - val_accuracy: 0.7900\n",
      "Epoch 97/100\n",
      "8/8 [==============================] - 0s 16ms/step - loss: 0.2454 - accuracy: 0.8825 - val_loss: 0.4084 - val_accuracy: 0.7900\n",
      "Epoch 98/100\n",
      "8/8 [==============================] - 0s 13ms/step - loss: 0.2451 - accuracy: 0.8825 - val_loss: 0.4083 - val_accuracy: 0.7900\n",
      "Epoch 99/100\n",
      "8/8 [==============================] - 0s 10ms/step - loss: 0.2444 - accuracy: 0.8825 - val_loss: 0.4082 - val_accuracy: 0.7900\n",
      "Epoch 100/100\n",
      "8/8 [==============================] - 0s 9ms/step - loss: 0.2442 - accuracy: 0.8825 - val_loss: 0.4081 - val_accuracy: 0.7900\n"
     ]
    }
   ],
   "source": [
    "#Train the model\n",
    "h = m.fit(X, y, epochs=100, batch_size=50, validation_split=0.2)"
   ]
  },
  {
   "cell_type": "code",
   "execution_count": 29,
   "id": "descending-blood",
   "metadata": {},
   "outputs": [
    {
     "name": "stdout",
     "output_type": "stream",
     "text": [
      "100\n",
      "100\n"
     ]
    }
   ],
   "source": [
    "print(len(h.history['loss']))\n",
    "print(len(h.history['val_loss']))"
   ]
  },
  {
   "cell_type": "code",
   "execution_count": 36,
   "id": "typical-segment",
   "metadata": {},
   "outputs": [
    {
     "data": {
      "text/plain": [
       "[<matplotlib.lines.Line2D at 0x6417e85d0>]"
      ]
     },
     "execution_count": 36,
     "metadata": {},
     "output_type": "execute_result"
    },
    {
     "data": {
      "image/png": "[encoded data removed]",
      "text/plain": [
       "<Figure size 432x288 with 1 Axes>"
      ]
     },
     "metadata": {
      "needs_background": "light"
     },
     "output_type": "display_data"
    }
   ],
   "source": [
    "#plot the learning curve\n",
    "plt.plot(h.history['loss'], c='green')\n",
    "plt.plot(h.history['val_loss'], c='red')\n",
    "plt.plot(h.history['val_accuracy'], c='orange')"
   ]
  },
  {
   "cell_type": "code",
   "execution_count": 37,
   "id": "local-kansas",
   "metadata": {},
   "outputs": [
    {
     "name": "stdout",
     "output_type": "stream",
     "text": [
      "10/10 [==============================] - 0s 3ms/step - loss: 0.2765 - accuracy: 0.8640\n",
      "[0.2765083611011505, 0.8640000224113464]\n"
     ]
    }
   ],
   "source": [
    "score = m.evaluate(X, y, batch_size=50)\n",
    "print(score)"
   ]
  },
  {
   "cell_type": "code",
   "execution_count": 38,
   "id": "printable-tolerance",
   "metadata": {},
   "outputs": [
    {
     "name": "stdout",
     "output_type": "stream",
     "text": [
      "[[0.00392944]\n",
      " [0.01009843]\n",
      " [0.00941482]\n",
      " [0.4584752 ]\n",
      " [0.01939508]\n",
      " [0.94301164]\n",
      " [0.9664335 ]\n",
      " [0.8918525 ]\n",
      " [0.00575018]\n",
      " [0.9576297 ]]\n"
     ]
    }
   ],
   "source": [
    "#predict on data points - I think these have been used to train the model though\n",
    "print(m.predict(X[:10]))"
   ]
  },
  {
   "cell_type": "code",
   "execution_count": 40,
   "id": "chemical-valuable",
   "metadata": {},
   "outputs": [
    {
     "data": {
      "text/plain": [
       "array([[-0.48577749,  1.05513545],\n",
       "       [ 0.29259392,  1.0989127 ],\n",
       "       [ 0.17030514,  1.07539849],\n",
       "       [ 0.02325115,  0.0773714 ],\n",
       "       [-0.67486889,  0.68640069],\n",
       "       [ 1.14816383, -0.41440007],\n",
       "       [ 1.60780339, -0.3583927 ],\n",
       "       [ 0.57881133, -0.2497821 ],\n",
       "       [-0.34563409,  1.0181833 ],\n",
       "       [ 1.39939095, -0.58820076]])"
      ]
     },
     "execution_count": 40,
     "metadata": {},
     "output_type": "execute_result"
    }
   ],
   "source": [
    "X[:10]"
   ]
  },
  {
   "cell_type": "code",
   "execution_count": 42,
   "id": "bridal-number",
   "metadata": {},
   "outputs": [
    {
     "name": "stdout",
     "output_type": "stream",
     "text": [
      "Model: \"sequential_1\"\n",
      "_________________________________________________________________\n",
      "Layer (type)                 Output Shape              Param #   \n",
      "=================================================================\n",
      "dense_2 (Dense)              (None, 4)                 12        \n",
      "_________________________________________________________________\n",
      "dense_3 (Dense)              (None, 1)                 5         \n",
      "=================================================================\n",
      "Total params: 17\n",
      "Trainable params: 17\n",
      "Non-trainable params: 0\n",
      "_________________________________________________________________\n"
     ]
    }
   ],
   "source": [
    "m.summary()"
   ]
  },
  {
   "cell_type": "code",
   "execution_count": 47,
   "id": "smooth-stewart",
   "metadata": {},
   "outputs": [
    {
     "data": {
      "text/plain": [
       "[<matplotlib.lines.Line2D at 0x6411f1750>]"
      ]
     },
     "execution_count": 47,
     "metadata": {},
     "output_type": "execute_result"
    },
    {
     "data": {
      "image/png": "[encoded data removed]",
      "text/plain": [
       "<Figure size 432x288 with 1 Axes>"
      ]
     },
     "metadata": {
      "needs_background": "light"
     },
     "output_type": "display_data"
    }
   ],
   "source": [
    "acc = h.history['accuracy']\n",
    "plt.plot(range(len(acc)),acc)"
   ]
  },
  {
   "cell_type": "code",
   "execution_count": 48,
   "id": "expressed-documentary",
   "metadata": {},
   "outputs": [
    {
     "name": "stdout",
     "output_type": "stream",
     "text": [
      "Requirement already satisfied: h5py in /opt/anaconda3/envs/dl/lib/python3.7/site-packages (2.10.0)\n",
      "Requirement already satisfied: numpy>=1.7 in /opt/anaconda3/envs/dl/lib/python3.7/site-packages (from h5py) (1.19.2)\n",
      "Requirement already satisfied: six in /opt/anaconda3/envs/dl/lib/python3.7/site-packages (from h5py) (1.15.0)\n",
      "\u001b[33mWARNING: You are using pip version 21.0; however, version 21.1.2 is available.\n",
      "You should consider upgrading via the '/opt/anaconda3/envs/dl/bin/python -m pip install --upgrade pip' command.\u001b[0m\n"
     ]
    }
   ],
   "source": [
    "!pip install h5py"
   ]
  },
  {
   "cell_type": "code",
   "execution_count": 49,
   "id": "placed-clinton",
   "metadata": {},
   "outputs": [
    {
     "name": "stdout",
     "output_type": "stream",
     "text": [
      "Requirement already satisfied: pip in /opt/anaconda3/envs/dl/lib/python3.7/site-packages (21.0)\n",
      "Collecting pip\n",
      "  Using cached pip-21.1.2-py3-none-any.whl (1.5 MB)\n",
      "Installing collected packages: pip\n",
      "  Attempting uninstall: pip\n",
      "    Found existing installation: pip 21.0\n",
      "    Uninstalling pip-21.0:\n",
      "      Successfully uninstalled pip-21.0\n",
      "Successfully installed pip-21.1.2\n"
     ]
    }
   ],
   "source": [
    "!pip install --upgrade pip"
   ]
  },
  {
   "cell_type": "code",
   "execution_count": null,
   "id": "general-surfing",
   "metadata": {},
   "outputs": [],
   "source": [
    "#examining model weights\n",
    "\n",
    "#save a list of np.arrays with the weights\n",
    "w = m."
   ]
  },
  {
   "cell_type": "code",
   "execution_count": 51,
   "id": "rural-cleaners",
   "metadata": {},
   "outputs": [
    {
     "name": "stdout",
     "output_type": "stream",
     "text": [
      "Collecting pydot\n",
      "  Downloading pydot-1.4.2-py2.py3-none-any.whl (21 kB)\n",
      "Requirement already satisfied: pyparsing>=2.1.4 in /opt/anaconda3/envs/dl/lib/python3.7/site-packages (from pydot) (2.4.7)\n",
      "Installing collected packages: pydot\n",
      "Successfully installed pydot-1.4.2\n"
     ]
    }
   ],
   "source": [
    "!pip install pydot"
   ]
  },
  {
   "cell_type": "code",
   "execution_count": 55,
   "id": "composed-scoop",
   "metadata": {},
   "outputs": [
    {
     "name": "stdout",
     "output_type": "stream",
     "text": [
      "Requirement already satisfied: pydot in /opt/anaconda3/envs/dl/lib/python3.7/site-packages (1.4.2)\r\n",
      "Requirement already satisfied: pyparsing>=2.1.4 in /opt/anaconda3/envs/dl/lib/python3.7/site-packages (from pydot) (2.4.7)\r\n"
     ]
    }
   ],
   "source": [
    "!pip install pydot"
   ]
  },
  {
   "cell_type": "code",
   "execution_count": 56,
   "id": "solved-shower",
   "metadata": {},
   "outputs": [
    {
     "name": "stdout",
     "output_type": "stream",
     "text": [
      "('Failed to import pydot. You must `pip install pydot` and install graphviz (https://graphviz.gitlab.io/download/), ', 'for `pydotprint` to work.')\n"
     ]
    }
   ],
   "source": [
    "from IPython.display import SVG\n",
    "from tensorflow.keras.utils import plot_model\n",
    "\n",
    "plot_model(m,\n",
    "          to_file='model.png',\n",
    "          show_shapes=False,\n",
    "          show_layer_names=True,\n",
    "          rankdir='TB', expand_nested=False, dpi=96\n",
    "          )"
   ]
  },
  {
   "cell_type": "code",
   "execution_count": 52,
   "id": "completed-arena",
   "metadata": {},
   "outputs": [
    {
     "data": {
      "text/plain": [
       "array([0, 0, 0, 1, 0, 1, 1, 1, 0, 1])"
      ]
     },
     "execution_count": 52,
     "metadata": {},
     "output_type": "execute_result"
    }
   ],
   "source": [
    "y[:10]"
   ]
  },
  {
   "cell_type": "code",
   "execution_count": null,
   "id": "boring-quebec",
   "metadata": {},
   "outputs": [],
   "source": []
  }
 ],
 "metadata": {
  "kernelspec": {
   "display_name": "Python 3",
   "language": "python",
   "name": "python3"
  },
  "language_info": {
   "codemirror_mode": {
    "name": "ipython",
    "version": 3
   },
   "file_extension": ".py",
   "mimetype": "text/x-python",
   "name": "python",
   "nbconvert_exporter": "python",
   "pygments_lexer": "ipython3",
   "version": "3.7.9"
  }
 },
 "nbformat": 4,
 "nbformat_minor": 5
}
